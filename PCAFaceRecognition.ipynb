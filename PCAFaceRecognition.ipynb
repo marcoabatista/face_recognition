{
  "nbformat": 4,
  "nbformat_minor": 0,
  "metadata": {
    "colab": {
      "name": "PCAFaceRecognition.ipynb",
      "provenance": [],
      "collapsed_sections": [],
      "toc_visible": true
    },
    "kernelspec": {
      "name": "python3",
      "display_name": "Python 3"
    }
  },
  "cells": [
    {
      "cell_type": "code",
      "metadata": {
        "id": "bbpgvp-0sa1J"
      },
      "source": [
        "from os import listdir\r\n",
        "from os.path import isfile, join\r\n",
        "import sys\r\n",
        "import random\r\n",
        "import numpy as np\r\n",
        "import cv2\r\n",
        "from sklearn.metrics import accuracy_score\r\n",
        "from google.colab import drive\r\n",
        "#drive.mount('drive')"
      ],
      "execution_count": 42,
      "outputs": []
    },
    {
      "cell_type": "code",
      "metadata": {
        "id": "dxkl3bf2spHQ"
      },
      "source": [
        "# https://github.com/lobokoch/unsupervised-learning2/blob/main/pca-eigenfaces/src/br/furb/Person.java\r\n",
        "class Person():\r\n",
        "  def __init__(self, id, label, data):\r\n",
        "    self.id = id\r\n",
        "    self.label = label\r\n",
        "    self.data = data"
      ],
      "execution_count": 43,
      "outputs": []
    },
    {
      "cell_type": "code",
      "metadata": {
        "id": "-vy3QEhjstPn"
      },
      "source": [
        "# https://github.com/lobokoch/unsupervised-learning2/blob/main/pca-eigenfaces/src/br/furb/PCA.java\r\n",
        "class PCA():\r\n",
        "  def image_data(self, filename):      \r\n",
        "      img = cv2.imread(self.path+'/'+filename, cv2.IMREAD_GRAYSCALE)     \r\n",
        "      \r\n",
        "      output = cv2.resize(img, (80, 80), interpolation = cv2.INTER_AREA)\r\n",
        "\r\n",
        "      dst = output.T.reshape((1, output.shape[1] * output.shape[0]))\r\n",
        "      return np.float64(dst)\r\n",
        "\r\n",
        "  def to_person(self, filename):\r\n",
        "    data_part = filename[filename.rfind('/')+1 :filename.rfind('.jpg')]   \r\n",
        "    data = data_part.split('_')\r\n",
        "    \r\n",
        "    return Person(int(data[0]), int(data[1]), self.image_data(filename))\r\n",
        "  \r\n",
        "  def load_dataset(self, train, test, p):\r\n",
        "    files = [f for f in listdir(self.path) if isfile(join(self.path, f)) if f.endswith('.jpg')]    \r\n",
        "    people = list(map(self.to_person, files))\r\n",
        "\r\n",
        "    people.sort(key=lambda x: x.id, reverse=True)\r\n",
        "\r\n",
        "    num_samples_per_person = 10\r\n",
        "    samples = []\r\n",
        "    for person in people:\r\n",
        "      samples.append(person)\r\n",
        "      if len(samples) == num_samples_per_person:\r\n",
        "        while len(samples) > p:\r\n",
        "          index = random.randint(0, len(samples)-1)          \r\n",
        "          test.append(samples.pop(index))\r\n",
        "\r\n",
        "        if p == num_samples_per_person:\r\n",
        "          test.extend(samples)\r\n",
        "\r\n",
        "        train.extend(samples)\r\n",
        "        samples = []\r\n",
        "\r\n",
        "  def main(self):\r\n",
        "    self.path = '/content/drive/MyDrive/Colab Notebooks/ORL'\r\n",
        "    \r\n",
        "    train = []\r\n",
        "    test = []\r\n",
        "    p = 7\r\n",
        "\r\n",
        "    self.load_dataset(train, test, p)\r\n",
        "\r\n",
        "    start = 2\r\n",
        "    end = 30\r\n",
        "\r\n",
        "    for k in range(start, end):\r\n",
        "      recognizer = cv2.face.EigenFaceRecognizer_create(k)\r\n",
        "      src = []\r\n",
        "      labels = []\r\n",
        "      for person_train in train:\r\n",
        "        src.append(person_train.data)\r\n",
        "        labels.append(person_train.label)\r\n",
        "\r\n",
        "      recognizer.train(src, np.asarray(labels))\r\n",
        "      \r\n",
        "      test_labels = []\r\n",
        "      prediction = []\r\n",
        "\r\n",
        "      for person_test in test:\r\n",
        "        label, confidence = recognizer.predict(person_test.data)\r\n",
        "        \r\n",
        "        test_labels.append(person_test.label)\r\n",
        "        prediction.append(label)\r\n",
        "\r\n",
        "      accuracy = accuracy_score(prediction, test_labels)\r\n",
        "      accuracy = round(accuracy * 100, 2)\r\n",
        "      \r\n",
        "      print('{} componentes principais, acurácia: {}%'.format(k,accuracy))\r\n",
        "      "
      ],
      "execution_count": 44,
      "outputs": []
    },
    {
      "cell_type": "code",
      "metadata": {
        "colab": {
          "base_uri": "https://localhost:8080/"
        },
        "id": "bXcpPx-BsvfJ",
        "outputId": "6153c179-0dee-429c-9331-f1263750b111"
      },
      "source": [
        "pca = PCA()\r\n",
        "pca.main()"
      ],
      "execution_count": 45,
      "outputs": [
        {
          "output_type": "stream",
          "text": [
            "2 componentes principais, acurácia: 42.28%\n",
            "3 componentes principais, acurácia: 60.98%\n",
            "4 componentes principais, acurácia: 78.05%\n",
            "5 componentes principais, acurácia: 85.37%\n",
            "6 componentes principais, acurácia: 87.8%\n",
            "7 componentes principais, acurácia: 91.06%\n",
            "8 componentes principais, acurácia: 92.68%\n",
            "9 componentes principais, acurácia: 93.5%\n",
            "10 componentes principais, acurácia: 92.68%\n",
            "11 componentes principais, acurácia: 93.5%\n",
            "12 componentes principais, acurácia: 92.68%\n",
            "13 componentes principais, acurácia: 90.24%\n",
            "14 componentes principais, acurácia: 91.06%\n",
            "15 componentes principais, acurácia: 92.68%\n",
            "16 componentes principais, acurácia: 91.87%\n",
            "17 componentes principais, acurácia: 92.68%\n",
            "18 componentes principais, acurácia: 92.68%\n",
            "19 componentes principais, acurácia: 92.68%\n",
            "20 componentes principais, acurácia: 92.68%\n",
            "21 componentes principais, acurácia: 93.5%\n",
            "22 componentes principais, acurácia: 94.31%\n",
            "23 componentes principais, acurácia: 94.31%\n",
            "24 componentes principais, acurácia: 94.31%\n",
            "25 componentes principais, acurácia: 94.31%\n",
            "26 componentes principais, acurácia: 94.31%\n",
            "27 componentes principais, acurácia: 94.31%\n",
            "28 componentes principais, acurácia: 95.12%\n",
            "29 componentes principais, acurácia: 94.31%\n"
          ],
          "name": "stdout"
        }
      ]
    }
  ]
}